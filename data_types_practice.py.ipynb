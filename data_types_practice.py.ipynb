{
 "cells": [
  {
   "cell_type": "markdown",
   "id": "a8b89b0d",
   "metadata": {},
   "source": [
    "2 variables of integers:"
   ]
  },
  {
   "cell_type": "code",
   "execution_count": null,
   "id": "ab01864b",
   "metadata": {},
   "outputs": [
    {
     "name": "stdout",
     "output_type": "stream",
     "text": [
      "My Age is 16 year.\n",
      "I have 42 apples.\n"
     ]
    }
   ],
   "source": [
    "# integers examples.\n",
    "age = 16 \n",
    "apples = 42 \n",
    "# 2 variables of integers.\n",
    "print(f\"My Age is {age} year.\")\n",
    "print(f\"I have {apples} apples.\")\n",
    "# printing the variable ."
   ]
  },
  {
   "cell_type": "markdown",
   "id": "22fd5c5f",
   "metadata": {},
   "source": [
    "2 variables of string."
   ]
  },
  {
   "cell_type": "code",
   "execution_count": null,
   "id": "4c3756bd",
   "metadata": {},
   "outputs": [
    {
     "name": "stdout",
     "output_type": "stream",
     "text": [
      "My name is Muhammad Ehtisham.\n",
      "My profession is Student.\n"
     ]
    }
   ],
   "source": [
    "#string Example.\n",
    "my_name = \"Muhammad Ehtisham\"\n",
    "my_profession = \"Student\"\n",
    "# variables declare for string.\n",
    "print(f\"My name is {my_name}.\")\n",
    "print(f\"My profession is {my_profession}.\")"
   ]
  },
  {
   "cell_type": "markdown",
   "id": "93dc45bd",
   "metadata": {},
   "source": [
    "2 variables for float."
   ]
  },
  {
   "cell_type": "code",
   "execution_count": null,
   "id": "a782eb91",
   "metadata": {},
   "outputs": [
    {
     "name": "stdout",
     "output_type": "stream",
     "text": [
      "My weight is 40.5.\n",
      "Half of number three is 1.5.\n"
     ]
    }
   ],
   "source": [
    "# float example\n",
    "weight = 40.5\n",
    "division = 1.5\n",
    "# varibles for float.\n",
    "print(f\"My weight is {weight}.\")\n",
    "print(f\"Half of number three is {division}.\")"
   ]
  },
  {
   "cell_type": "markdown",
   "id": "53025ccf",
   "metadata": {},
   "source": [
    "2 variables for boolean.\n",
    "Examples:"
   ]
  },
  {
   "cell_type": "code",
   "execution_count": 21,
   "id": "591f6143",
   "metadata": {},
   "outputs": [
    {
     "name": "stdout",
     "output_type": "stream",
     "text": [
      "True\n"
     ]
    }
   ],
   "source": [
    "# Boolean Example\n",
    "age = 18\n",
    "is_young = True\n",
    "is_old = False\n",
    "if age >= 18:\n",
    "      print(is_young)\n",
    "else:\n",
    "      print(is_old)"
   ]
  }
 ],
 "metadata": {
  "kernelspec": {
   "display_name": "base",
   "language": "python",
   "name": "python3"
  },
  "language_info": {
   "codemirror_mode": {
    "name": "ipython",
    "version": 3
   },
   "file_extension": ".py",
   "mimetype": "text/x-python",
   "name": "python",
   "nbconvert_exporter": "python",
   "pygments_lexer": "ipython3",
   "version": "3.12.7"
  }
 },
 "nbformat": 4,
 "nbformat_minor": 5
}
